{
 "cells": [
  {
   "cell_type": "code",
   "execution_count": 194,
   "metadata": {},
   "outputs": [
    {
     "name": "stdout",
     "output_type": "stream",
     "text": [
      "The autoreload extension is already loaded. To reload it, use:\n",
      "  %reload_ext autoreload\n"
     ]
    }
   ],
   "source": [
    "%load_ext autoreload\n",
    "%autoreload 2\n",
    "\n",
    "import json\n",
    "import os\n",
    "import shutil\n",
    "import sys\n",
    "\n",
    "import matplotlib.pyplot as plt\n",
    "import numpy as np\n",
    "import pandas as pd\n",
    "from py7zr import unpack_7zarchive\n",
    "from tqdm import tqdm\n",
    "\n",
    "from src.nba_parser import NBAParser\n",
    "\n",
    "pd.set_option(\"display.max_rows\", 50)\n",
    "pd.set_option('display.max_columns', None)"
   ]
  },
  {
   "cell_type": "markdown",
   "metadata": {},
   "source": [
    "### Unzipping .7z Files"
   ]
  },
  {
   "cell_type": "code",
   "execution_count": 3,
   "metadata": {},
   "outputs": [],
   "source": [
    "zip_dir = \"data/nba_raw_7z\"\n",
    "zip_files = np.sort([f for f in os.listdir(zip_dir) if f.endswith(\".7z\")])\n",
    "\n",
    "if not os.path.exists(\"data/nba_json\"):\n",
    "    os.mkdir(\"data/nba_json\")\n",
    "\n",
    "shutil.register_unpack_format(\"7zip\", [\".7z\"], unpack_7zarchive)\n",
    "for f in zip_files:\n",
    "    shutil.unpack_archive(f\"{zip_dir}/{f}\", \"data/nba_jsons\")"
   ]
  },
  {
   "cell_type": "markdown",
   "metadata": {},
   "source": [
    "### Formatting Match Data"
   ]
  },
  {
   "cell_type": "code",
   "execution_count": 231,
   "metadata": {},
   "outputs": [
    {
     "name": "stdout",
     "output_type": "stream",
     "text": [
      "\n",
      "2015-12-05 - Boston Celtics at San Antonio Spurs\n"
     ]
    },
    {
     "name": "stderr",
     "output_type": "stream",
     "text": [
      "100%|██████████| 187/187 [00:04<00:00, 44.17it/s] \n"
     ]
    },
    {
     "name": "stdout",
     "output_type": "stream",
     "text": [
      "Data saved in data/nba_traces/21500296.csv.\n",
      "Metadata saved in data/nba_traces/21500296.json.\n",
      "\n",
      "2016-01-01 - Dallas Mavericks at Miami Heat\n"
     ]
    },
    {
     "name": "stderr",
     "output_type": "stream",
     "text": [
      "100%|██████████| 187/187 [00:04<00:00, 39.58it/s] \n"
     ]
    }
   ],
   "source": [
    "json_dir = \"data/nba_raw_json\"\n",
    "match_ids = np.sort([f.split(\".\")[0] for f in os.listdir(json_dir) if f.endswith(\".json\")])\n",
    "for match_id in match_ids:\n",
    "    parser = NBAParser(match_id)\n",
    "    parser.run(save=True, verbose=True)"
   ]
  }
 ],
 "metadata": {
  "kernelspec": {
   "display_name": "ohcoach",
   "language": "python",
   "name": "python3"
  },
  "language_info": {
   "codemirror_mode": {
    "name": "ipython",
    "version": 3
   },
   "file_extension": ".py",
   "mimetype": "text/x-python",
   "name": "python",
   "nbconvert_exporter": "python",
   "pygments_lexer": "ipython3",
   "version": "3.8.13"
  }
 },
 "nbformat": 4,
 "nbformat_minor": 2
}
